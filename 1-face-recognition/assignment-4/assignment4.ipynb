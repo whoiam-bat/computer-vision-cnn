{
 "cells": [
  {
   "cell_type": "markdown",
   "metadata": {},
   "source": [
    "### Introduction to face recognition\n",
    "\n",
    "#### Part 4: Live face recognition. And saving separate face snapshot."
   ]
  },
  {
   "cell_type": "code",
   "execution_count": 1,
   "metadata": {},
   "outputs": [],
   "source": [
    "import cv2\n",
    "\n",
    "image_path = '../imgs/005 6.jpg'\n",
    "source_image = cv2.imread(image_path, 0)\n",
    "source_image = cv2.cvtColor(source_image.copy(), cv2.COLOR_BGR2RGB)"
   ]
  },
  {
   "cell_type": "markdown",
   "metadata": {},
   "source": [
    "Connecting to webcamera. Reading pretreined model for face recognition. Definig face coordinates."
   ]
  },
  {
   "cell_type": "code",
   "execution_count": 2,
   "metadata": {},
   "outputs": [],
   "source": [
    "webcam = cv2.VideoCapture(0)\n",
    "\n",
    "face_cascade = cv2.CascadeClassifier('../pretrained-face-recognition-model/012 haarcascade-frontalface-default.xml')\n",
    "faces = face_cascade.detectMultiScale(source_image, scaleFactor = 1.2, minNeighbors = 5, minSize = (20, 20))"
   ]
  },
  {
   "cell_type": "markdown",
   "metadata": {},
   "source": [
    "Starting infinite loop for live video processing. Drawing rectangle around each face on the frame. Defining face ROI and saving it on key 'W' is pressed."
   ]
  },
  {
   "cell_type": "code",
   "execution_count": 3,
   "metadata": {},
   "outputs": [],
   "source": [
    "while True:\n",
    "    check, frame = webcam.read()\n",
    "    \n",
    "    grayscale_frame = cv2.cvtColor(frame, cv2.COLOR_BGR2GRAY)\n",
    "    live_faces = face_cascade.detectMultiScale(grayscale_frame, scaleFactor=1.2, minNeighbors=5, minSize=(20, 20))\n",
    "    \n",
    "    for x, y, w, h in live_faces:\n",
    "        cv2.rectangle(frame, (x, y), (x + w, y + h), (0, 255, 0), 2)\n",
    "        roi = frame[y:y+h, x:x+w]\n",
    "    \n",
    "    cv2.imshow('live-face-detector', frame)\n",
    "    \n",
    "    key = cv2.waitKey(1)\n",
    "    if key & 0xFF == ord('w'):\n",
    "        cv2.imwrite('./face-snapshot.jpeg', roi)\n",
    "    elif key & 0xFF == ord('q'):\n",
    "        break\n",
    "    else:\n",
    "        pass"
   ]
  },
  {
   "cell_type": "markdown",
   "metadata": {},
   "source": [
    "Release webcamera and close all output windows."
   ]
  },
  {
   "cell_type": "code",
   "execution_count": 4,
   "metadata": {},
   "outputs": [],
   "source": [
    "webcam.release()\n",
    "cv2.destroyAllWindows()"
   ]
  }
 ],
 "metadata": {
  "kernelspec": {
   "display_name": "Python 3",
   "language": "python",
   "name": "python3"
  },
  "language_info": {
   "codemirror_mode": {
    "name": "ipython",
    "version": 3
   },
   "file_extension": ".py",
   "mimetype": "text/x-python",
   "name": "python",
   "nbconvert_exporter": "python",
   "pygments_lexer": "ipython3",
   "version": "3.11.5"
  },
  "orig_nbformat": 4
 },
 "nbformat": 4,
 "nbformat_minor": 2
}
